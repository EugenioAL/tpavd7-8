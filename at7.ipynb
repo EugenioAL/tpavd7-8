{
 "cells": [
  {
   "cell_type": "code",
   "execution_count": 7,
   "metadata": {},
   "outputs": [
    {
     "name": "stdout",
     "output_type": "stream",
     "text": [
      "               0     1   2   3     4\n",
      "0              1  CONN  79  14    up\n",
      "1              1  CONN  79  14  down\n",
      "2             49  CONN  14  79    up\n",
      "3             49  CONN  14  79  down\n",
      "4           2252  CONN  14  20    up\n",
      "...          ...   ...  ..  ..   ...\n",
      "615543  16980866  CONN  85  15  down\n",
      "615544  16980866  CONN  85  56  down\n",
      "615545  16981088  CONN  15  95  down\n",
      "615546  16981088  CONN  36  95  down\n",
      "615547  16981816  CONN  85  95  down\n",
      "\n",
      "[615548 rows x 5 columns]\n"
     ]
    }
   ],
   "source": [
    "import pandas as pd\n",
    "from collections import defaultdict\n",
    "index = ['tempo','conexao','sta1','sta2','tipo']\n",
    "dados = pd.read_csv('RealityMining.txt',sep=' ',on_bad_lines='skip',header=None)\n",
    "print(dados)"
   ]
  },
  {
   "cell_type": "code",
   "execution_count": 10,
   "metadata": {},
   "outputs": [
    {
     "name": "stdout",
     "output_type": "stream",
     "text": [
      "O numero de conexões é:  307774\n",
      "       2   3  count\n",
      "0     93  14   3348\n",
      "1     56  85   2814\n",
      "2     56  28   2538\n",
      "3     85  56   2454\n",
      "4     13  95   2274\n",
      "...   ..  ..    ...\n",
      "5162  74  49      6\n",
      "5163  36  72      6\n",
      "5164  74  47      6\n",
      "5165  74  43      6\n",
      "5166  50  11      6\n",
      "\n",
      "[5167 rows x 3 columns]\n"
     ]
    }
   ],
   "source": [
    "print(\"O numero de conexões é: \",dados[4].value_counts()['up'])\n",
    "\n",
    "print(dados[[2, 3]].value_counts().reset_index(name='count'))"
   ]
  },
  {
   "cell_type": "code",
   "execution_count": 6,
   "metadata": {},
   "outputs": [],
   "source": [
    "class Grafo(object):\n",
    "    \"\"\" Implementação básica de um grafo. \"\"\"\n",
    "\n",
    "    def __init__(self, arestas, direcionado=False):\n",
    "        \"\"\"Inicializa as estruturas base do grafo.\"\"\"\n",
    "        self.adj = defaultdict(set)\n",
    "        self.direcionado = direcionado\n",
    "        self.adiciona_arestas(arestas)\n",
    "\n",
    "\n",
    "    def get_vertices(self):\n",
    "        \"\"\" Retorna a lista de vértices do grafo. \"\"\"\n",
    "        return list(self.adj.keys())\n",
    "\n",
    "\n",
    "    def get_arestas(self):\n",
    "        \"\"\" Retorna a lista de arestas do grafo. \"\"\"\n",
    "        return [(k, v) for k in self.adj.keys() for v in self.adj[k]]\n",
    "\n",
    "\n",
    "    def adiciona_arestas(self, arestas):\n",
    "        \"\"\" Adiciona arestas ao grafo. \"\"\"\n",
    "        for u, v in arestas:\n",
    "            self.adiciona_arco(u, v)\n",
    "\n",
    "\n",
    "    def adiciona_arco(self, u, v):\n",
    "        \"\"\" Adiciona uma ligação (arco) entre os nodos 'u' e 'v'. \"\"\"\n",
    "        self.adj[u].add(v)\n",
    "        # Se o grafo é não-direcionado, precisamos adicionar arcos nos dois sentidos.\n",
    "        if not self.direcionado:\n",
    "            self.adj[v].add(u)\n",
    "\n",
    "\n",
    "    def existe_aresta(self, u, v):\n",
    "        \"\"\" Existe uma aresta entre os vértices 'u' e 'v'? \"\"\"\n",
    "        return u in self.adj and v in self.adj[u]\n",
    "\n",
    "\n",
    "    def __len__(self):\n",
    "        return len(self.adj)\n",
    "\n",
    "\n",
    "    def __str__(self):\n",
    "        return '{}({})'.format(self.__class__.__name__, dict(self.adj))\n",
    "\n",
    "\n",
    "    def __getitem__(self, v):\n",
    "        return self.adj[v]"
   ]
  }
 ],
 "metadata": {
  "kernelspec": {
   "display_name": "Python 3",
   "language": "python",
   "name": "python3"
  },
  "language_info": {
   "codemirror_mode": {
    "name": "ipython",
    "version": 3
   },
   "file_extension": ".py",
   "mimetype": "text/x-python",
   "name": "python",
   "nbconvert_exporter": "python",
   "pygments_lexer": "ipython3",
   "version": "3.11.1"
  },
  "orig_nbformat": 4,
  "vscode": {
   "interpreter": {
    "hash": "b6e1ad50155744902ba2443499ef6ff446554d732069a769ae728748aeb506bf"
   }
  }
 },
 "nbformat": 4,
 "nbformat_minor": 2
}
